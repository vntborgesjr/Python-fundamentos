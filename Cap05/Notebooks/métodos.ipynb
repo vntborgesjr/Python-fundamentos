{
 "cells": [
  {
   "cell_type": "markdown",
   "metadata": {},
   "source": [
    "# Fundamentos de Phyton - Programação Orientada a Objetos\n",
    "\n",
    "## Métodos\n",
    "\n",
    "São funções definidas dentro de uma classe para manipular os objetos criados a partir da classe."
   ]
  },
  {
   "cell_type": "code",
   "execution_count": 2,
   "metadata": {},
   "outputs": [],
   "source": [
    "# criando uma classe chamada Circulo\n",
    "\n",
    "class Circulo():\n",
    "    \n",
    "    # o valor de pi é constante\n",
    "    pi = 3.14\n",
    "    \n",
    "    # quando um objeto desta classe for criado, este método será executado e o valor default do raio será 5.\n",
    "    def __init__(self, raio = 5):\n",
    "        self.raio = raio\n",
    "        \n",
    "    # esse método calcula a área do círculo. Self utiliza os atributos deste mesmo objeto, neste caso o raio\n",
    "    def area(self):\n",
    "        return (self.raio * self.raio) * Circulo.pi\n",
    "    \n",
    "    # método para gerar um novo raio\n",
    "    def setRaio(self, novo_raio):\n",
    "        self.raio = novo_raio\n",
    "        \n",
    "    # método para obter o raio do círculo\n",
    "    def getRaio(self):\n",
    "        return(self.raio)"
   ]
  },
  {
   "cell_type": "code",
   "execution_count": 3,
   "metadata": {},
   "outputs": [],
   "source": [
    "# criando o objeto circ. Uma instância da classe Circulo()\n",
    "\n",
    "circ = Circulo()"
   ]
  },
  {
   "cell_type": "code",
   "execution_count": 11,
   "metadata": {},
   "outputs": [
    {
     "name": "stdout",
     "output_type": "stream",
     "text": [
      "O raio é 10\n"
     ]
    }
   ],
   "source": [
    "# obtendo o raio\n",
    "\n",
    "circ.getRaio()\n",
    "print('O raio é {}'.format(circ.getRaio()))"
   ]
  },
  {
   "cell_type": "code",
   "execution_count": 12,
   "metadata": {},
   "outputs": [
    {
     "name": "stdout",
     "output_type": "stream",
     "text": [
      "A área é 314.0\n"
     ]
    }
   ],
   "source": [
    "# obtendo a area do circulo\n",
    "\n",
    "circ.area()\n",
    "print('A área é {}'.format(circ.area()))"
   ]
  },
  {
   "cell_type": "code",
   "execution_count": 8,
   "metadata": {},
   "outputs": [],
   "source": [
    "# modificando o raio do circulo\n",
    "\n",
    "circ.setRaio(10)"
   ]
  },
  {
   "cell_type": "code",
   "execution_count": 14,
   "metadata": {},
   "outputs": [
    {
     "name": "stdout",
     "output_type": "stream",
     "text": [
      "O novo raio é 10\n"
     ]
    }
   ],
   "source": [
    "# obtendo o novo raio\n",
    "\n",
    "circ.getRaio()\n",
    "print('O novo raio é {}'.format(circ.getRaio()))"
   ]
  },
  {
   "cell_type": "code",
   "execution_count": 15,
   "metadata": {},
   "outputs": [
    {
     "name": "stdout",
     "output_type": "stream",
     "text": [
      "A nova área é 314.0\n"
     ]
    }
   ],
   "source": [
    "# obtendo a nova área \n",
    "\n",
    "circ.area()\n",
    "print('A nova área é {}'.format(circ.area()))"
   ]
  },
  {
   "cell_type": "markdown",
   "metadata": {},
   "source": [
    "## Fim"
   ]
  }
 ],
 "metadata": {
  "kernelspec": {
   "display_name": "Python 3",
   "language": "python",
   "name": "python3"
  },
  "language_info": {
   "codemirror_mode": {
    "name": "ipython",
    "version": 3
   },
   "file_extension": ".py",
   "mimetype": "text/x-python",
   "name": "python",
   "nbconvert_exporter": "python",
   "pygments_lexer": "ipython3",
   "version": "3.8.3"
  }
 },
 "nbformat": 4,
 "nbformat_minor": 4
}
