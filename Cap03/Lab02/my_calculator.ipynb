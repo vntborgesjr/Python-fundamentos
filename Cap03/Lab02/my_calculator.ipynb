{
 "cells": [
  {
   "cell_type": "code",
   "execution_count": null,
   "metadata": {},
   "outputs": [],
   "source": [
    "def calculadora():\n",
    "   # Passo 1 - imprimir na tela o termo Python Calculator\n",
    "    print ('******************* Python Calculator *******************')\n",
    "    # Passo 2 - imprimir na tela uma mensagem para solicitando a seleção da operação desejada\n",
    "    print ('Selecione o número da operação desejada:')\n",
    "    # Passo 3 - imprimir na tela as opções de operações matemáticas\n",
    "    print ('1 - Soma \\n2 - Subtração \\n3 - Multiplicação \\n4 - Divisão')\n",
    "    # Passo 4 - imprimir na tela a caixa para escolha da operação matemática desejada\n",
    "    operação = int(input('Digite sua opção (1/2/3/4): '))\n",
    "    # Passo 5 - imprimir na tela a caixa para entrada do primeiro número\n",
    "    num1 = int(input('Digite o primeiro número: '))\n",
    "    # Passo 6 - imprimir na tela a caixa para a entrada do segundo número\n",
    "    num2 = int(input('Digite o segundo número: '))\n",
    "    # Passo 7 - realizar a operação matemática escolhida com os números fornecidos nos passos 6 e 7\n",
    "    if operação == 1:\n",
    "        print ('%s + %s = ' %(num1, num2), num1 + num2)\n",
    "    elif operação == 2:\n",
    "        print ('%s - %s = ' %(num1, num2), num1 - num2)\n",
    "    elif operação == 3:\n",
    "        print ('%s x %s = ' %(num1, num2), num1 * num2)\n",
    "    elif operação == 4:\n",
    "        print ('%s / %s = ' %(num1, num2), num1 / num2)\n",
    "    elif operação > 4:\n",
    "        print ('Opção inválida!')\n",
    "        \n",
    "\n",
    "calculadora() "
   ]
  }
 ],
 "metadata": {
  "kernelspec": {
   "display_name": "Python 3",
   "language": "python",
   "name": "python3"
  },
  "language_info": {
   "codemirror_mode": {
    "name": "ipython",
    "version": 3
   },
   "file_extension": ".py",
   "mimetype": "text/x-python",
   "name": "python",
   "nbconvert_exporter": "python",
   "pygments_lexer": "ipython3",
   "version": "3.8.3"
  }
 },
 "nbformat": 4,
 "nbformat_minor": 4
}
