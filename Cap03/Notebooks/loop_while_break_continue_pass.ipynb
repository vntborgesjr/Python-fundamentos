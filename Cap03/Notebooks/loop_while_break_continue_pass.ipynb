{
 "cells": [
  {
   "cell_type": "markdown",
   "metadata": {},
   "source": [
    "# Fundamentos de Python\n",
    "\n",
    "## Estruturas de repetição\n",
    "\n",
    "### Loop while"
   ]
  },
  {
   "cell_type": "code",
   "execution_count": 1,
   "metadata": {},
   "outputs": [
    {
     "name": "stdout",
     "output_type": "stream",
     "text": [
      "0\n",
      "1\n",
      "2\n",
      "3\n",
      "4\n",
      "5\n",
      "6\n",
      "7\n",
      "8\n",
      "9\n"
     ]
    }
   ],
   "source": [
    "# usando o loop while para imprimir os valores de 0 a 9\n",
    "\n",
    "counter = 0\n",
    "while counter < 10: \n",
    "    print(counter)\n",
    "    counter = counter + 1"
   ]
  },
  {
   "cell_type": "code",
   "execution_count": 3,
   "metadata": {},
   "outputs": [
    {
     "name": "stdout",
     "output_type": "stream",
     "text": [
      "O valor de x nesta iteração é:  0\n",
      " x ainda é menor que 10, somando 1 a x\n",
      "O valor de x nesta iteração é:  1\n",
      " x ainda é menor que 10, somando 1 a x\n",
      "O valor de x nesta iteração é:  2\n",
      " x ainda é menor que 10, somando 1 a x\n",
      "O valor de x nesta iteração é:  3\n",
      " x ainda é menor que 10, somando 1 a x\n",
      "O valor de x nesta iteração é:  4\n",
      " x ainda é menor que 10, somando 1 a x\n",
      "O valor de x nesta iteração é:  5\n",
      " x ainda é menor que 10, somando 1 a x\n",
      "O valor de x nesta iteração é:  6\n",
      " x ainda é menor que 10, somando 1 a x\n",
      "O valor de x nesta iteração é:  7\n",
      " x ainda é menor que 10, somando 1 a x\n",
      "O valor de x nesta iteração é:  8\n",
      " x ainda é menor que 10, somando 1 a x\n",
      "O valor de x nesta iteração é:  9\n",
      " x ainda é menor que 10, somando 1 a x\n",
      "Loop concluído!\n"
     ]
    }
   ],
   "source": [
    "# tammbém é possível usar a cláusula else para encerrar o loop while\n",
    "\n",
    "x = 0 \n",
    "\n",
    "while x < 10:\n",
    "    print('O valor de x nesta iteração é: ', x)\n",
    "    print(' x ainda é menor que 10, somando 1 a x')\n",
    "    x += 1\n",
    "\n",
    "else:\n",
    "    print('Loop concluído!')"
   ]
  },
  {
   "cell_type": "markdown",
   "metadata": {},
   "source": [
    "### pass, break, continue"
   ]
  },
  {
   "cell_type": "code",
   "execution_count": 9,
   "metadata": {},
   "outputs": [
    {
     "name": "stdout",
     "output_type": "stream",
     "text": [
      "0\n",
      "1\n",
      "2\n",
      "3\n"
     ]
    }
   ],
   "source": [
    "counter = 0\n",
    "while counter < 100:\n",
    "    if counter == 4:\n",
    "        break\n",
    "    else:\n",
    "        pass\n",
    "    print(counter)\n",
    "    counter += 1"
   ]
  },
  {
   "cell_type": "code",
   "execution_count": 11,
   "metadata": {},
   "outputs": [
    {
     "name": "stdout",
     "output_type": "stream",
     "text": [
      "P\n",
      "y\n",
      "t\n",
      "o\n",
      "n\n"
     ]
    }
   ],
   "source": [
    "for i in \"Python\":\n",
    "    if i == 'h':\n",
    "        continue\n",
    "    print(i)"
   ]
  },
  {
   "cell_type": "markdown",
   "metadata": {},
   "source": [
    "### while e for juntos"
   ]
  },
  {
   "cell_type": "code",
   "execution_count": 27,
   "metadata": {},
   "outputs": [
    {
     "name": "stdout",
     "output_type": "stream",
     "text": [
      "2 é um número primo\n",
      "3 é um número primo\n",
      "5 é um número primo\n",
      "7 é um número primo\n",
      "11 é um número primo\n",
      "13 é um número primo\n",
      "17 é um número primo\n",
      "19 é um número primo\n",
      "23 é um número primo\n",
      "29 é um número primo\n"
     ]
    }
   ],
   "source": [
    "for i in range(2, 30):\n",
    "    j = 2\n",
    "    counter = 0\n",
    "    while j < i:\n",
    "        if i % j == 0:\n",
    "            counter = 1\n",
    "            j += 1\n",
    "        else:\n",
    "            j += 1\n",
    "                \n",
    "    if counter == 0:\n",
    "            print(str(i) + ' é um número primo')\n",
    "            "
   ]
  },
  {
   "cell_type": "code",
   "execution_count": 46,
   "metadata": {},
   "outputs": [
    {
     "name": "stdout",
     "output_type": "stream",
     "text": [
      "Digite um número: 11\n",
      "\u001b[33m1 \u001b[31m2 \u001b[31m3 \u001b[31m4 \u001b[31m5 \u001b[31m6 \u001b[31m7 \u001b[31m8 \u001b[31m9 \u001b[31m10 \u001b[33m11 \n",
      "\u001b[mO número 11 foi divsível 2 vezes\n",
      "E por isso ele É PRIMO!\n"
     ]
    }
   ],
   "source": [
    "# como verificar se um número é primo ou não primo\n",
    " \n",
    "num = int(input('Digite um número: '))\n",
    "tot = 0\n",
    "for i in range(1, num + 1):\n",
    "    if num % i == 0:\n",
    "        print('\\033[33m', end = '')\n",
    "        tot += 1\n",
    "    else:\n",
    "        print('\\033[31m', end = '')    \n",
    "    print('{} '.format(i), end = '') \n",
    "print('\\n\\033[mO número {} foi divsível {} vezes'.format(num, tot))\n",
    "if tot == 2:\n",
    "    print('E por isso ele É PRIMO!')\n",
    "else:\n",
    "    print('E por iss ele NÂO É PRIMO!')"
   ]
  },
  {
   "cell_type": "markdown",
   "metadata": {},
   "source": [
    "## Fim"
   ]
  }
 ],
 "metadata": {
  "kernelspec": {
   "display_name": "Python 3",
   "language": "python",
   "name": "python3"
  },
  "language_info": {
   "codemirror_mode": {
    "name": "ipython",
    "version": 3
   },
   "file_extension": ".py",
   "mimetype": "text/x-python",
   "name": "python",
   "nbconvert_exporter": "python",
   "pygments_lexer": "ipython3",
   "version": "3.8.3"
  }
 },
 "nbformat": 4,
 "nbformat_minor": 4
}
