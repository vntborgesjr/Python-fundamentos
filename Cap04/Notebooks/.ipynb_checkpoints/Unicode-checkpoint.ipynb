{
 "cells": [
  {
   "cell_type": "markdown",
   "metadata": {},
   "source": [
    "# Fundamentos de Python\n",
    "\n",
    "## Python e o código Unicode\n",
    "\n",
    "O código Unicode propõe combinar todos os conjuntos de caracteres do mundo em uma única tablea gigantesca. Dê uma olhada no conjunto de caracteres Unicode (http://www.unicode.org/charts/)."
   ]
  },
  {
   "cell_type": "code",
   "execution_count": 1,
   "metadata": {},
   "outputs": [],
   "source": [
    "uni = u\"abc_\\u03a0\\u03a3\\u03a9.txt\""
   ]
  },
  {
   "cell_type": "code",
   "execution_count": 2,
   "metadata": {},
   "outputs": [
    {
     "data": {
      "text/plain": [
       "'abc_ΠΣΩ.txt'"
      ]
     },
     "execution_count": 2,
     "metadata": {},
     "output_type": "execute_result"
    }
   ],
   "source": [
    "uni"
   ]
  },
  {
   "cell_type": "code",
   "execution_count": 5,
   "metadata": {},
   "outputs": [
    {
     "data": {
      "text/plain": [
       "'a'"
      ]
     },
     "execution_count": 5,
     "metadata": {},
     "output_type": "execute_result"
    }
   ],
   "source": [
    "# \\u é usado para representar códigos Unicode\n",
    "\n",
    "'\\u0061'"
   ]
  },
  {
   "cell_type": "code",
   "execution_count": 7,
   "metadata": {},
   "outputs": [
    {
     "data": {
      "text/plain": [
       "'b'"
      ]
     },
     "execution_count": 7,
     "metadata": {},
     "output_type": "execute_result"
    }
   ],
   "source": [
    "'\\u0062'"
   ]
  },
  {
   "cell_type": "code",
   "execution_count": 8,
   "metadata": {},
   "outputs": [],
   "source": [
    "uni = u'\\u001a\\u0bc3\\u1451\\U0001d10c'"
   ]
  },
  {
   "cell_type": "code",
   "execution_count": 9,
   "metadata": {},
   "outputs": [
    {
     "data": {
      "text/plain": [
       "'\\x1a\\u0bc3ᑑ𝄌'"
      ]
     },
     "execution_count": 9,
     "metadata": {},
     "output_type": "execute_result"
    }
   ],
   "source": [
    "uni"
   ]
  },
  {
   "cell_type": "code",
   "execution_count": 10,
   "metadata": {},
   "outputs": [],
   "source": [
    "# você pode usar tanto letra maiúscula quanto minúscula\n",
    "\n",
    "uni = u'\\u001A\\u0BC3\\u1451\\U0001D10C'"
   ]
  },
  {
   "cell_type": "code",
   "execution_count": 11,
   "metadata": {},
   "outputs": [
    {
     "data": {
      "text/plain": [
       "'\\x1a\\u0bc3ᑑ𝄌'"
      ]
     },
     "execution_count": 11,
     "metadata": {},
     "output_type": "execute_result"
    }
   ],
   "source": [
    "uni"
   ]
  },
  {
   "cell_type": "markdown",
   "metadata": {},
   "source": [
    "## Codecs\n",
    "\n",
    "Os __codecs__ da linguagem Python permitem transformações arbitrárias ente objetos. Entre outras coisas, podem transformar objetos Unicode em strings Python em formato binário, e vice-versa.\n",
    "\n",
    "__Por que precisamos dos codecs?__ Objetos Unicode não possuem uma representaçção determinada no computador. Antes que um objeto Unicode possa ser impresso, armazendado em disco, ou enviado pela rede, ele deve ser codificado em uma representação específica. Isto é feito utilizando-se um codec. Alguns codecs populares que você pode ter ouvido falar no seu dia-a-dia são: ascii, iso-8859-7, UTF-8, UTF-16.\n",
    "\n",
    "### De Unicode para binário\n",
    "\n",
    "Para converter um valor Unicode em uma representação binária, você chama o método __.encode__ com o nome do codec. Por exemplo, para converter um valor Unicode para UTF-8:"
   ]
  },
  {
   "cell_type": "code",
   "execution_count": 14,
   "metadata": {},
   "outputs": [],
   "source": [
    "binary = uni.encode('utf-8')"
   ]
  },
  {
   "cell_type": "code",
   "execution_count": 15,
   "metadata": {},
   "outputs": [],
   "source": [
    "uni = u\"Hello\\u001A\\u0BC3\\u1451\\U0001D10CUnicode\" "
   ]
  },
  {
   "cell_type": "code",
   "execution_count": 16,
   "metadata": {},
   "outputs": [
    {
     "data": {
      "text/plain": [
       "'Hello\\x1a\\u0bc3ᑑ𝄌Unicode'"
      ]
     },
     "execution_count": 16,
     "metadata": {},
     "output_type": "execute_result"
    }
   ],
   "source": [
    "uni"
   ]
  },
  {
   "cell_type": "code",
   "execution_count": 17,
   "metadata": {},
   "outputs": [
    {
     "ename": "SyntaxError",
     "evalue": "invalid syntax (<ipython-input-17-780febb7957e>, line 7)",
     "output_type": "error",
     "traceback": [
      "\u001b[1;36m  File \u001b[1;32m\"<ipython-input-17-780febb7957e>\"\u001b[1;36m, line \u001b[1;32m7\u001b[0m\n\u001b[1;33m    print \"UTF-8\", repr(uni.encode('utf-8'))\u001b[0m\n\u001b[1;37m          ^\u001b[0m\n\u001b[1;31mSyntaxError\u001b[0m\u001b[1;31m:\u001b[0m invalid syntax\n"
     ]
    }
   ],
   "source": [
    "if __name__ == '__main__':\n",
    "\n",
    "    # Define nossa string Unicode\n",
    "    uni = u\"Hello\\u001A\\u0BC3\\u1451\\U0001D10CUnicode\"\n",
    "\n",
    "    # UTF-8 e UTF-16 podem codificar completamente qualquer string Unicode\n",
    "    print \"UTF-8\", repr(uni.encode('utf-8'))\n",
    "    print \"UTF-16\", repr(uni.encode('utf-16'))\n",
    "\n",
    "    # ASCII pode apenas codificar valore entre 0-127. Abaixo, dizemos ao Python\n",
    "    # para trocar caracteres que não podem ser codificados por '?'\n",
    "    print \"ASCII\",uni.encode('ascii','replace')\n",
    "\n",
    "    # ISO-8859-1 é similar ao ASCII\n",
    "    print \"ISO-8859-1\",uni.encode('iso-8859-1','replace')"
   ]
  },
  {
   "cell_type": "code",
   "execution_count": null,
   "metadata": {},
   "outputs": [],
   "source": []
  }
 ],
 "metadata": {
  "kernelspec": {
   "display_name": "Python 3",
   "language": "python",
   "name": "python3"
  },
  "language_info": {
   "codemirror_mode": {
    "name": "ipython",
    "version": 3
   },
   "file_extension": ".py",
   "mimetype": "text/x-python",
   "name": "python",
   "nbconvert_exporter": "python",
   "pygments_lexer": "ipython3",
   "version": "3.8.3"
  }
 },
 "nbformat": 4,
 "nbformat_minor": 4
}
