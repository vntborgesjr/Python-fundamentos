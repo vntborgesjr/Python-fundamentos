{
 "cells": [
  {
   "cell_type": "markdown",
   "metadata": {},
   "source": [
    "# Banco de dados SQLite em Python 2\n",
    "\n",
    "\n",
    "Agora iremos criar o banco de dados e aplicar os comandos da linguagem SQL aplicando funções construídas em Python.\n",
    "\n",
    "### Criando o banco de dados e inserindo dados"
   ]
  },
  {
   "cell_type": "code",
   "execution_count": 3,
   "metadata": {},
   "outputs": [],
   "source": [
    "# Remover o arquivo com o banco de dados SQLite (caso exista)\n",
    "\n",
    "import os \n",
    "os.remove('dsa.db') if os.path.exists('dsa.db') else None"
   ]
  },
  {
   "cell_type": "code",
   "execution_count": 23,
   "metadata": {},
   "outputs": [],
   "source": [
    "import sqlite3\n",
    "\n",
    "# Criando uma conexão \n",
    "\n",
    "conn = sqlite3.connect('dsa.db')\n",
    "\n",
    "# Criando um cursor. O cursor permite percorrer todos os registros em um banco de dados. \n",
    "# As linhas de comando para criação de conexão e criação de cursor são obrigatórias.\n",
    "\n",
    "c = conn.cursor()\n",
    "\n",
    "# Função para criar uma tabela\n",
    "\n",
    "def create_table():\n",
    "    c.execute('CREATE TABLE IF NOT EXISTS produtos (id INTEGER PRIMARY KEY AUTOINCREMENT NOT NULL, date TEXT, '\\\n",
    "              'prod_name TEXT, valor REAL)')\n",
    "    \n",
    "# Inserir uma linha\n",
    "    \n",
    "def data_insert():\n",
    "    c.execute(\"INSERT INTO produtos VALUES(10, '2018-05-02 14:32:11', 'Teclado', 90)\")\n",
    "    conn.commit()\n",
    "    # c.close()\n",
    "    # conn.close()"
   ]
  },
  {
   "cell_type": "code",
   "execution_count": 16,
   "metadata": {},
   "outputs": [],
   "source": [
    "# Criar tabela utilizando a função\n",
    "\n",
    "create_table()"
   ]
  },
  {
   "cell_type": "code",
   "execution_count": 17,
   "metadata": {},
   "outputs": [],
   "source": [
    "# Inserir dados utilizando a função\n",
    "\n",
    "data_insert()"
   ]
  },
  {
   "cell_type": "markdown",
   "metadata": {},
   "source": [
    "  ### Automatizando o processo de inclusão de dados utilizando variáveis em Python"
   ]
  },
  {
   "cell_type": "code",
   "execution_count": 24,
   "metadata": {},
   "outputs": [],
   "source": [
    "import random\n",
    "import time\n",
    "import datetime\n",
    "\n",
    "# Usando variáveis para inserir dados. Os novos dados foram incluídos diretamente no corpor da função, mas poderíamos utilizar\n",
    "# argumentos que alimentassem a função com dados gerados externamente a ela. É basicamente assim que funciona uma aplicação de \n",
    "# coleta de dados na web.\n",
    "\n",
    "def data_insert_var():\n",
    "    new_date = datetime.datetime.now()\n",
    "    new_prod_name = 'Monitor'\n",
    "    new_valor = random.randrange(50, 100)\n",
    "    c.execute(\"INSERT INTO produtos (date, prod_name, valor) VALUES (?, ?, ?)\", (new_date, new_prod_name, new_valor))\n",
    "    conn.commit()"
   ]
  },
  {
   "cell_type": "code",
   "execution_count": 25,
   "metadata": {},
   "outputs": [],
   "source": [
    "# Gerando os valores e inserindo na tabela\n",
    "\n",
    "for i in range(10):\n",
    "    data_insert_var()\n",
    "    time.sleep(1)"
   ]
  },
  {
   "cell_type": "markdown",
   "metadata": {},
   "source": [
    "### Utilizando a linguagem SQL através da linguagem Python para realizar consultas aos registros das tabelas "
   ]
  },
  {
   "cell_type": "code",
   "execution_count": 29,
   "metadata": {},
   "outputs": [],
   "source": [
    "# Função para leitura de todos os dados\n",
    "\n",
    "def leitura_todos_dados():\n",
    "    c.execute('SELECT * FROM produtos')\n",
    "    for linha in c.fetchall():\n",
    "        print(linha)\n",
    "\n",
    "# Função para leitura de registros específicos com valor menor do que 60,0\n",
    "\n",
    "def leitura_registros():\n",
    "    c.execute('SELECT * FROM produtos WHERE valor > 60.0')\n",
    "    for linha in c.fetchall():\n",
    "        print(linha)\n",
    "\n",
    "# Função para leitura de colunas específicas, neste a coluna com o valor dos produtos\n",
    " \n",
    "def leitura_colunas():\n",
    "    c.execute('SELECT * FROM produtos')\n",
    "    for linha in c.fetchall():\n",
    "        print(linha[3])\n",
    "   "
   ]
  },
  {
   "cell_type": "code",
   "execution_count": 27,
   "metadata": {},
   "outputs": [
    {
     "name": "stdout",
     "output_type": "stream",
     "text": [
      "(10, '2018-05-02 14:32:11', 'Teclado', 90.0)\n",
      "(11, '2020-09-03 17:56:42.639355', 'Monitor', 68.0)\n",
      "(12, '2020-09-03 17:56:43.828361', 'Monitor', 56.0)\n",
      "(13, '2020-09-03 17:56:45.109931', 'Monitor', 95.0)\n",
      "(14, '2020-09-03 17:56:46.186054', 'Monitor', 80.0)\n",
      "(15, '2020-09-03 17:56:47.274956', 'Monitor', 67.0)\n",
      "(16, '2020-09-03 17:56:48.333169', 'Monitor', 54.0)\n",
      "(17, '2020-09-03 17:56:49.420414', 'Monitor', 89.0)\n",
      "(18, '2020-09-03 17:56:50.482903', 'Monitor', 90.0)\n",
      "(19, '2020-09-03 17:56:51.549884', 'Monitor', 50.0)\n",
      "(20, '2020-09-03 17:56:52.609299', 'Monitor', 75.0)\n"
     ]
    }
   ],
   "source": [
    "# Select ou leitura de todos os dados \n",
    "\n",
    "leitura_todos_dados()"
   ]
  },
  {
   "cell_type": "code",
   "execution_count": 30,
   "metadata": {},
   "outputs": [
    {
     "name": "stdout",
     "output_type": "stream",
     "text": [
      "(10, '2018-05-02 14:32:11', 'Teclado', 90.0)\n",
      "(11, '2020-09-03 17:56:42.639355', 'Monitor', 68.0)\n",
      "(13, '2020-09-03 17:56:45.109931', 'Monitor', 95.0)\n",
      "(14, '2020-09-03 17:56:46.186054', 'Monitor', 80.0)\n",
      "(15, '2020-09-03 17:56:47.274956', 'Monitor', 67.0)\n",
      "(17, '2020-09-03 17:56:49.420414', 'Monitor', 89.0)\n",
      "(18, '2020-09-03 17:56:50.482903', 'Monitor', 90.0)\n",
      "(20, '2020-09-03 17:56:52.609299', 'Monitor', 75.0)\n"
     ]
    }
   ],
   "source": [
    "# Select ou leitura de registros específicos\n",
    "\n",
    "leitura_registros()"
   ]
  },
  {
   "cell_type": "code",
   "execution_count": 32,
   "metadata": {},
   "outputs": [
    {
     "name": "stdout",
     "output_type": "stream",
     "text": [
      "90.0\n",
      "68.0\n",
      "56.0\n",
      "95.0\n",
      "80.0\n",
      "67.0\n",
      "54.0\n",
      "89.0\n",
      "90.0\n",
      "50.0\n",
      "75.0\n"
     ]
    }
   ],
   "source": [
    "# Select ou leitura de coluna específica\n",
    "\n",
    "leitura_colunas()"
   ]
  },
  {
   "cell_type": "markdown",
   "metadata": {},
   "source": [
    "### Operações de atualização e deleção com os comnados `update` e `delete` "
   ]
  },
  {
   "cell_type": "code",
   "execution_count": 34,
   "metadata": {},
   "outputs": [],
   "source": [
    "# Atualizando os dados\n",
    "\n",
    "def atualiza_dados():\n",
    "    c.execute('UPDATE produtos SET valor = 70.00 WHERE valor = 80.0')\n",
    "    conn.commit()"
   ]
  },
  {
   "cell_type": "code",
   "execution_count": 35,
   "metadata": {},
   "outputs": [],
   "source": [
    "atualiza_dados()"
   ]
  },
  {
   "cell_type": "code",
   "execution_count": 36,
   "metadata": {},
   "outputs": [
    {
     "name": "stdout",
     "output_type": "stream",
     "text": [
      "(10, '2018-05-02 14:32:11', 'Teclado', 90.0)\n",
      "(11, '2020-09-03 17:56:42.639355', 'Monitor', 68.0)\n",
      "(12, '2020-09-03 17:56:43.828361', 'Monitor', 56.0)\n",
      "(13, '2020-09-03 17:56:45.109931', 'Monitor', 95.0)\n",
      "(14, '2020-09-03 17:56:46.186054', 'Monitor', 70.0)\n",
      "(15, '2020-09-03 17:56:47.274956', 'Monitor', 67.0)\n",
      "(16, '2020-09-03 17:56:48.333169', 'Monitor', 54.0)\n",
      "(17, '2020-09-03 17:56:49.420414', 'Monitor', 89.0)\n",
      "(18, '2020-09-03 17:56:50.482903', 'Monitor', 90.0)\n",
      "(19, '2020-09-03 17:56:51.549884', 'Monitor', 50.0)\n",
      "(20, '2020-09-03 17:56:52.609299', 'Monitor', 75.0)\n"
     ]
    }
   ],
   "source": [
    "leitura_todos_dados()"
   ]
  },
  {
   "cell_type": "code",
   "execution_count": 33,
   "metadata": {},
   "outputs": [],
   "source": [
    "# Deletando os dados\n",
    "\n",
    "def remove_dados():\n",
    "    c.execute('DELETE FROM produtos WHERE valor = 50.0')\n",
    "    conn.commit()"
   ]
  },
  {
   "cell_type": "code",
   "execution_count": 37,
   "metadata": {},
   "outputs": [],
   "source": [
    "remove_dados()"
   ]
  },
  {
   "cell_type": "code",
   "execution_count": 38,
   "metadata": {},
   "outputs": [
    {
     "name": "stdout",
     "output_type": "stream",
     "text": [
      "(10, '2018-05-02 14:32:11', 'Teclado', 90.0)\n",
      "(11, '2020-09-03 17:56:42.639355', 'Monitor', 68.0)\n",
      "(12, '2020-09-03 17:56:43.828361', 'Monitor', 56.0)\n",
      "(13, '2020-09-03 17:56:45.109931', 'Monitor', 95.0)\n",
      "(14, '2020-09-03 17:56:46.186054', 'Monitor', 70.0)\n",
      "(15, '2020-09-03 17:56:47.274956', 'Monitor', 67.0)\n",
      "(16, '2020-09-03 17:56:48.333169', 'Monitor', 54.0)\n",
      "(17, '2020-09-03 17:56:49.420414', 'Monitor', 89.0)\n",
      "(18, '2020-09-03 17:56:50.482903', 'Monitor', 90.0)\n",
      "(20, '2020-09-03 17:56:52.609299', 'Monitor', 75.0)\n"
     ]
    }
   ],
   "source": [
    "leitura_todos_dados()"
   ]
  },
  {
   "cell_type": "code",
   "execution_count": 39,
   "metadata": {},
   "outputs": [],
   "source": [
    "# Encerrando o cursor e a conexão\n",
    "\n",
    "c.close()\n",
    "conn.close()"
   ]
  },
  {
   "cell_type": "markdown",
   "metadata": {},
   "source": [
    "## Fim"
   ]
  }
 ],
 "metadata": {
  "kernelspec": {
   "display_name": "Python 3",
   "language": "python",
   "name": "python3"
  },
  "language_info": {
   "codemirror_mode": {
    "name": "ipython",
    "version": 3
   },
   "file_extension": ".py",
   "mimetype": "text/x-python",
   "name": "python",
   "nbconvert_exporter": "python",
   "pygments_lexer": "ipython3",
   "version": "3.8.3"
  }
 },
 "nbformat": 4,
 "nbformat_minor": 4
}
