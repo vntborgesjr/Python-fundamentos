{
 "cells": [
  {
   "cell_type": "markdown",
   "metadata": {},
   "source": [
    "# Criando um banco de dados SQLite em Python\n",
    "\n",
    "Documentação SQLite: https://www.sqlite.org/docs.html\n",
    "\n",
    "### Acessando banco de dados com Python"
   ]
  },
  {
   "cell_type": "code",
   "execution_count": 1,
   "metadata": {},
   "outputs": [],
   "source": [
    "# Remove o arquivo com o banco de dados SQLite (caso exista)\n",
    "\n",
    "import os\n",
    "os.remove('escola.db') if os.path.exists('escola.db') else None"
   ]
  },
  {
   "cell_type": "code",
   "execution_count": 2,
   "metadata": {},
   "outputs": [
    {
     "data": {
      "text/plain": [
       "sqlite3.Connection"
      ]
     },
     "execution_count": 2,
     "metadata": {},
     "output_type": "execute_result"
    }
   ],
   "source": [
    "# Importando o módulo de acaesso ao SQLite\n",
    "\n",
    "import sqlite3\n",
    "\n",
    "# Cria uma conexão com o banco de dados. Se o banco de dados não existir, ele é criado neste momento\n",
    "\n",
    "con = sqlite3.connect('escola.db')\n",
    "type(con)"
   ]
  },
  {
   "cell_type": "code",
   "execution_count": 3,
   "metadata": {},
   "outputs": [
    {
     "data": {
      "text/plain": [
       "sqlite3.Cursor"
      ]
     },
     "execution_count": 3,
     "metadata": {},
     "output_type": "execute_result"
    }
   ],
   "source": [
    "# Criando um cursor (um crusor permite percoerrer todos os registros em um conjunto de dados)\n",
    "\n",
    "cur = con.cursor()\n",
    "type(cur)"
   ]
  },
  {
   "cell_type": "markdown",
   "metadata": {},
   "source": [
    "### Criando um banco de dados SQL utilizando o comando DDL `create table` "
   ]
  },
  {
   "cell_type": "code",
   "execution_count": 4,
   "metadata": {},
   "outputs": [],
   "source": [
    "# Criar uma instrução sql. Para criar uma tabela utiliza-se o comando DDL criate table. O nome da tabela, cursos, vem logo após \n",
    "# o comando create table. Em seguida, são adicionadas as colunas da tabela 'cursos': id, título e categoria. O tipo da coluna \n",
    "# (ex: integer, varchar, float) é informado após seu título e a chave primária (PK) é identificada. A primeira coluna não pode \n",
    "# ter valores repetido por se tratar de uma chave primária. varchar(100) = variável do tipo caracter com até 100 posições;\n",
    "# varhar(140) = até 140 posições\n",
    "\n",
    "sql_create = 'create table cursos '\\\n",
    "'(id integer primary key, '\\\n",
    "'titulo varchar(100), '\\\n",
    "'categoria varchar(140))'"
   ]
  },
  {
   "cell_type": "code",
   "execution_count": 5,
   "metadata": {},
   "outputs": [
    {
     "data": {
      "text/plain": [
       "<sqlite3.Cursor at 0x1c98eea0f10>"
      ]
     },
     "execution_count": 5,
     "metadata": {},
     "output_type": "execute_result"
    }
   ],
   "source": [
    "# Executando a instrução sql no cursor. Aqui é onde a tabela é de fato criada\n",
    "\n",
    "cur.execute(sql_create)"
   ]
  },
  {
   "cell_type": "markdown",
   "metadata": {},
   "source": [
    "### Inserindo registros no banco SQL utilizando o comando DML `insert into`"
   ]
  },
  {
   "cell_type": "code",
   "execution_count": 6,
   "metadata": {},
   "outputs": [],
   "source": [
    "# Criando outra sentença SQL para inserir registros. Para inserir registros na tabela usiliza-se o comando DML `insert into`,\n",
    "# em seguida o nome da tabela. o comando `values` é utilizado para indicar os valores dos registros que serão incluídos\n",
    "\n",
    "sql_insert = 'insert into cursos values (?, ?, ?)'"
   ]
  },
  {
   "cell_type": "code",
   "execution_count": 7,
   "metadata": {},
   "outputs": [],
   "source": [
    "# Dados. recset = recrod setting, ou conjunto de registros. Esse será o conjunto de registros adicionado a tabela 'cursos'\n",
    "\n",
    "recset = [(1000, 'Ciência de Dados', 'Data Science'),\n",
    "         (1001, 'Big Data Fundamentos', 'Big Data'),\n",
    "         (1002, 'Python Fundamentos', 'Análise de Dados')]"
   ]
  },
  {
   "cell_type": "code",
   "execution_count": 8,
   "metadata": {},
   "outputs": [],
   "source": [
    "# Inserindo os registros. Para cada registro rec em recset o cursor executará o comando de inclusão de registro na tabela\n",
    "\n",
    "for rec in recset:\n",
    "    cur.execute(sql_insert, rec)"
   ]
  },
  {
   "cell_type": "markdown",
   "metadata": {},
   "source": [
    "### Gravando os novos registros que foram inseridos no banco de dados utilizando o comando `commit`"
   ]
  },
  {
   "cell_type": "code",
   "execution_count": null,
   "metadata": {},
   "outputs": [],
   "source": [
    "# Grava a transação\n",
    "\n",
    "con.commit()"
   ]
  },
  {
   "cell_type": "code",
   "execution_count": null,
   "metadata": {},
   "outputs": [],
   "source": [
    "# Criando outra sentença SQL para selecionar registros\n",
    "\n",
    "sql_select = 'select * from cursos'"
   ]
  },
  {
   "cell_type": "markdown",
   "metadata": {},
   "source": [
    "### Selecionando registros no banco SQL utilizando o comando `select`"
   ]
  },
  {
   "cell_type": "code",
   "execution_count": 11,
   "metadata": {},
   "outputs": [],
   "source": [
    "# Criando outra sentença SQL para selecionar registros\n",
    "\n",
    "sql_select = 'select * from cursos'"
   ]
  },
  {
   "cell_type": "code",
   "execution_count": 12,
   "metadata": {},
   "outputs": [],
   "source": [
    "# Seleciona todos os registros e recupera os registros\n",
    "\n",
    "cur.execute(sql_select) # cur é o cursor, a conexão com o banco de dados\n",
    "dados = cur.fetchall() # pega os registros e salva em dados"
   ]
  },
  {
   "cell_type": "code",
   "execution_count": 17,
   "metadata": {},
   "outputs": [
    {
     "name": "stdout",
     "output_type": "stream",
     "text": [
      "Curso Id: 1000, Título : Ciência de Dados, Categoria: Data Science \n",
      "\n",
      "Curso Id: 1001, Título : Big Data Fundamentos, Categoria: Big Data \n",
      "\n",
      "Curso Id: 1002, Título : Python Fundamentos, Categoria: Análise de Dados \n",
      "\n"
     ]
    }
   ],
   "source": [
    "# Mostra os registros selecionados\n",
    "\n",
    "for linha in dados:\n",
    "    print('Curso Id: {}, Título : {}, Categoria: {} \\n'.format(linha[0], linha[1], linha[2]))"
   ]
  },
  {
   "cell_type": "markdown",
   "metadata": {},
   "source": [
    "### Gerando novos resgistros, inserindo e gravando"
   ]
  },
  {
   "cell_type": "code",
   "execution_count": 18,
   "metadata": {},
   "outputs": [],
   "source": [
    "# Gerando outros registros \n",
    "\n",
    "recset = [(1003, 'Gestão de Dados com MongoDB', 'Big Data'),\n",
    "        (1004, 'R Fundamentos', 'Análise de Dados')]\n",
    "\n",
    "# Inserindo os novos registros\n",
    "\n",
    "for rec in recset:\n",
    "    cur.execute(sql_insert, rec)\n",
    "    \n",
    "# Gravando os novos registros\n",
    "\n",
    "con.commit()"
   ]
  },
  {
   "cell_type": "markdown",
   "metadata": {},
   "source": [
    "### Selecionando todos os registros"
   ]
  },
  {
   "cell_type": "code",
   "execution_count": 21,
   "metadata": {},
   "outputs": [
    {
     "name": "stdout",
     "output_type": "stream",
     "text": [
      "Curos Id: 1000, Título: Ciência de Dados, Categoria: Data Science\n",
      "\n",
      "Curos Id: 1001, Título: Big Data Fundamentos, Categoria: Big Data\n",
      "\n",
      "Curos Id: 1002, Título: Python Fundamentos, Categoria: Análise de Dados\n",
      "\n",
      "Curos Id: 1003, Título: Gestão de Dados com MongoDB, Categoria: Big Data\n",
      "\n",
      "Curos Id: 1004, Título: R Fundamentos, Categoria: Análise de Dados\n",
      "\n"
     ]
    }
   ],
   "source": [
    "# selecionando todos os registros\n",
    "\n",
    "cur.execute('select * from cursos') # utilizando o comando SQL `select` diretamente no cursor \n",
    "\n",
    "# Recupera os resultados\n",
    "\n",
    "recset = cur.fetchall()\n",
    "\n",
    "# Mostra os registros\n",
    "\n",
    "for rec in recset:\n",
    "    print('Curos Id: {}, Título: {}, Categoria: {}\\n'.format(rec[0], rec[1], rec[2]))"
   ]
  },
  {
   "cell_type": "code",
   "execution_count": 22,
   "metadata": {},
   "outputs": [],
   "source": [
    "# Fecha a conexão\n",
    "\n",
    "con.close()"
   ]
  },
  {
   "cell_type": "markdown",
   "metadata": {},
   "source": [
    "## Fim"
   ]
  }
 ],
 "metadata": {
  "kernelspec": {
   "display_name": "Python 3",
   "language": "python",
   "name": "python3"
  },
  "language_info": {
   "codemirror_mode": {
    "name": "ipython",
    "version": 3
   },
   "file_extension": ".py",
   "mimetype": "text/x-python",
   "name": "python",
   "nbconvert_exporter": "python",
   "pygments_lexer": "ipython3",
   "version": "3.8.3"
  }
 },
 "nbformat": 4,
 "nbformat_minor": 4
}
